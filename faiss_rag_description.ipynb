{
 "cells": [
  {
   "cell_type": "code",
   "execution_count": 4,
   "id": "03cffaaf",
   "metadata": {},
   "outputs": [],
   "source": [
    "from langchain_community.vectorstores import FAISS\n",
    "from configparser import ConfigParser"
   ]
  },
  {
   "cell_type": "code",
   "execution_count": 5,
   "id": "e95bd104",
   "metadata": {},
   "outputs": [
    {
     "data": {
      "text/plain": [
       "['config.ini']"
      ]
     },
     "execution_count": 5,
     "metadata": {},
     "output_type": "execute_result"
    }
   ],
   "source": [
    "#load config\n",
    "config = ConfigParser()\n",
    "config.read('config.ini')"
   ]
  },
  {
   "cell_type": "code",
   "execution_count": 6,
   "id": "c49512de",
   "metadata": {},
   "outputs": [
    {
     "name": "stdout",
     "output_type": "stream",
     "text": [
      "產生了 679 筆 description 文件\n",
      "page_content='泰式打拋醬原先的微酸微辣口感，讓人食慾大開。蒜香、辣椒與空心菜快炒後，清脆的空心菜口味層次豐富，是一道非常下飯的泰式料理。' metadata={'index_id': '28', 'field': 'description'}\n"
     ]
    }
   ],
   "source": [
    "import csv\n",
    "from langchain.schema import Document\n",
    "\n",
    "documents = []\n",
    "with open(\"data.csv\", encoding=\"utf-8\") as f:\n",
    "    reader = csv.DictReader(f)\n",
    "    for row_index, row in enumerate(reader):\n",
    "        index_id = row.get(\"index_id\", f\"row_{row_index}\")\n",
    "        field_value = row.get(\"description\", \"\").strip()\n",
    "        if field_value:  # 確保不是空的\n",
    "            doc = Document(\n",
    "                page_content=field_value,\n",
    "                metadata={\n",
    "                    \"index_id\": index_id,\n",
    "                    \"field\": \"description\"\n",
    "                }\n",
    "            )\n",
    "            documents.append(doc)\n",
    "\n",
    "print(f\"產生了 {len(documents)} 筆 description 文件\")\n",
    "print(documents[0])\n"
   ]
  },
  {
   "cell_type": "code",
   "execution_count": 7,
   "id": "60e426fa",
   "metadata": {},
   "outputs": [],
   "source": [
    "index_map = {}\n",
    "with open(\"data.csv\", encoding=\"utf-8\") as f:\n",
    "    reader = csv.DictReader(f)\n",
    "    for row in reader:\n",
    "        index_id = row[\"index_id\"]\n",
    "        index_map[index_id] = row"
   ]
  },
  {
   "cell_type": "code",
   "execution_count": 8,
   "id": "43df8e74",
   "metadata": {},
   "outputs": [],
   "source": [
    "from langchain_openai import AzureOpenAIEmbeddings\n",
    "\n",
    "embedding_model = AzureOpenAIEmbeddings(\n",
    "    openai_api_version=config[\"AzureOpenAI\"][\"VERSION\"],\n",
    "    azure_deployment=config[\"AzureOpenAI\"][\"Embedding_DEPLOYMENT_NAME\"],\n",
    "    azure_endpoint=config[\"AzureOpenAI\"][\"ENDPOINT\"],\n",
    "    api_key=config[\"AzureOpenAI\"][\"KEY\"],\n",
    ")"
   ]
  },
  {
   "cell_type": "code",
   "execution_count": 9,
   "id": "450a410e",
   "metadata": {},
   "outputs": [],
   "source": [
    "# db = FAISS.from_documents(documents, embedding_model)\n",
    "# 載入 FAISS index\n",
    "db = FAISS.load_local(\"faiss_db\", embedding_model, \"cuisines\", allow_dangerous_deserialization=True)"
   ]
  },
  {
   "cell_type": "code",
   "execution_count": 10,
   "id": "a20576ed",
   "metadata": {},
   "outputs": [],
   "source": [
    "# 儲存 FAISS index\n",
    "db.save_local(\"faiss_db\", \"cuisines\")"
   ]
  },
  {
   "cell_type": "code",
   "execution_count": 443,
   "id": "20fdff67",
   "metadata": {},
   "outputs": [],
   "source": [
    "query = \"我想吃清爽的雞肉料理？\""
   ]
  },
  {
   "cell_type": "code",
   "execution_count": 444,
   "id": "36f33a07",
   "metadata": {},
   "outputs": [],
   "source": [
    "result = db.similarity_search_with_score(query, 10)"
   ]
  },
  {
   "cell_type": "code",
   "execution_count": 445,
   "id": "574876c2",
   "metadata": {},
   "outputs": [],
   "source": [
    "# 收集所有檢索結果\n",
    "saved_results = []\n",
    "\n",
    "for i, (doc, dist) in enumerate(result):\n",
    "    index_id = doc.metadata[\"index_id\"]\n",
    "    field = doc.metadata[\"field\"]\n",
    "    content = doc.page_content\n",
    "    original_row = index_map.get(index_id, {})\n",
    "\n",
    "    result_entry = {\n",
    "        \"Result_Rank\": i + 1,\n",
    "        \"Score\": round(dist, 4),\n",
    "        \"Matched_Field\": field,\n",
    "        \"Field_Content\": content,\n",
    "        \"Index_ID\": index_id,\n",
    "        \"Name\": original_row.get(\"name\", \"\"),\n",
    "        \"Description\": original_row.get(\"description\", \"\"),\n",
    "        \"Ingredients\": original_row.get(\"ingredients\", \"\"),\n",
    "        \"Instructions\": original_row.get(\"instructions\", \"\")\n",
    "    }\n",
    "\n",
    "    saved_results.append(result_entry)\n"
   ]
  },
  {
   "cell_type": "code",
   "execution_count": 446,
   "id": "3ed5d485",
   "metadata": {},
   "outputs": [],
   "source": [
    "contexts = []\n",
    "for i, result in enumerate(saved_results):\n",
    "    context = f\"Result Rank: {result['Result_Rank']}\\n\"\n",
    "    context += f\"Score: {result['Score']}\\n\"\n",
    "    context += f\"Matched Field: {result['Matched_Field']}\\n\"\n",
    "    context += f\"Field Content: {result['Field_Content']}\\n\"\n",
    "    context += f\"Index ID: {result['Index_ID']}\\n\"\n",
    "    context += f\"Name: {result['Name']}\\n\"\n",
    "    context += f\"Description: {result['Description']}\\n\"\n",
    "    context += f\"Ingredients: {result['Ingredients']}\\n\"\n",
    "    context += f\"Instructions: {result['Instructions']}\\n\\n\"\n",
    "\n",
    "    contexts.append(context)"
   ]
  },
  {
   "cell_type": "code",
   "execution_count": 447,
   "id": "9baed293",
   "metadata": {},
   "outputs": [],
   "source": [
    "from langchain_openai import AzureChatOpenAI\n",
    "\n",
    "llm = AzureChatOpenAI(\n",
    "    openai_api_version=config[\"AzureOpenAI\"][\"VERSION\"],\n",
    "    azure_deployment=config[\"AzureOpenAI\"][\"GPT4o_DEPLOYMENT_NAME\"],\n",
    "    azure_endpoint=config[\"AzureOpenAI\"][\"ENDPOINT\"],\n",
    "    api_key=config[\"AzureOpenAI\"][\"KEY\"],\n",
    ")"
   ]
  },
  {
   "cell_type": "code",
   "execution_count": 448,
   "id": "14d79423",
   "metadata": {},
   "outputs": [],
   "source": [
    "from langchain_core.prompts import ChatPromptTemplate\n",
    "from langchain.chains.combine_documents import create_stuff_documents_chain\n",
    "\n",
    "# 封裝成 List[Document]\n",
    "documents = [Document(page_content=c) for c in contexts]\n",
    "\n",
    "# 建立 prompt\n",
    "prompt = ChatPromptTemplate.from_template(\n",
    "\"\"\"\n",
    "Answer the following question based only on the provided context,\n",
    "besides the answer, please also provide a list of comparison, \n",
    "just list item, not table.\n",
    "\n",
    "{context}\n",
    "\n",
    "Question: {input}\n",
    "請用繁體中文回答\n",
    "\"\"\"\n",
    ")\n",
    "\n",
    "# 建立 chain 並傳入\n",
    "document_chain = create_stuff_documents_chain(llm, prompt)\n",
    "\n",
    "llm_result = document_chain.invoke(\n",
    "    {\n",
    "        \"input\": query,\n",
    "        \"context\": documents\n",
    "    }\n",
    ")"
   ]
  },
  {
   "cell_type": "code",
   "execution_count": 449,
   "id": "657bf40b",
   "metadata": {},
   "outputs": [
    {
     "name": "stdout",
     "output_type": "stream",
     "text": [
      "Rank: 1, Score: 0.802299976348877\n",
      "Matched Field: description\n",
      "Field Content: 運動完最適合來道爽口不膩的涼拌菜，撲鼻而來的油蔥香味，讓人食慾大開；悶熟的雞胸吃起來口感嫩而不柴，剝絲後更增添入口的嚼勁，配上番茄自帶的甜酸風味及玉米的清甜，整道料理吃起來口感非常多元且又高蛋白低熱量，很適合運動、減醣的人食用。\n",
      "Index ID: 193\n",
      "Name: 涼拌蔥油雞絲\n",
      "Description: 運動完最適合來道爽口不膩的涼拌菜，撲鼻而來的油蔥香味，讓人食慾大開；悶熟的雞胸吃起來口感嫩而不柴，剝絲後更增添入口的嚼勁，配上番茄自帶的甜酸風味及玉米的清甜，整道料理吃起來口感非常多元且又高蛋白低熱量，很適合運動、減醣的人食用。\n",
      "Ingredients: ['青花椰菜 150公克', '牛蕃茄 1顆顆', '雞胸肉 200公克', '玉米粒(罐頭) 85公克', '鹽 些許公克', '金黃蔥油 10毫升', '鮮磨黑胡椒 些許公克']\n",
      "Instructions: ['雞胸肉去皮，其他食材清洗後，分切成便於入口大小', '起一鍋水，水滾後倒入一匙蔥油；然後關火放入雞胸肉(視雞胸肉厚度，約悶10-12分鐘)', '待雞胸肉悶熟後，取出', '重新開火，水滾後放入其他食材，燙熟後取出', '用叉子將雞胸肉刮成雞絲狀', '將所有食材裝盤後，撒上鹽、胡椒、蔥油調味']\n",
      "----------------------------------------\n",
      "Rank: 2, Score: 0.8166999816894531\n",
      "Matched Field: description\n",
      "Field Content: 想要美味又想吃得清爽無負擔，可以試試以水炒取代油炒，不僅能吃到美味的蒜香雞翅，又能為身體帶來好油，是道令人允指的美味佳餚！\n",
      "Index ID: 100\n",
      "Name: 水炒蒜香雞翅\n",
      "Description: 想要美味又想吃得清爽無負擔，可以試試以水炒取代油炒，不僅能吃到美味的蒜香雞翅，又能為身體帶來好油，是道令人允指的美味佳餚！\n",
      "Ingredients: ['水 320毫升', '青蔥 2根', '紅蘿蔔 1根', '雞翅(三節) 8支', '米酒 30毫升', '鹽 7公克', '醬油 15毫升', '辣椒 1根', '老薑 20公克', '金黃蒜油 15毫升']\n",
      "Instructions: ['雞翅劃刀幫助料理時入味。', '紅蘿蔔和老薑切片，青蔥和辣椒切斜片。', '熱鍋，倒入1杯水，炒香老薑片、青蔥段、辣椒、紅蘿蔔。', '放入雞翅並倒入醬油、1杯水，撒上鹽，蓋上鍋蓋轉中小火烹煮至雞翅熟成。', '起鍋前以米酒嗆鍋，並淋上蒜風味油微拌即可起鍋。']\n",
      "----------------------------------------\n",
      "Rank: 3, Score: 0.8781999945640564\n",
      "Matched Field: description\n",
      "Field Content: 多種香料風味滲入雞肉的每個纖維，柔嫩的春雞一扒就開，肉汁瞬間傾瀉而出，染上鋪底的野菜，成為最天然鮮美的調味。\n",
      "Index ID: 445\n",
      "Name: 燜煮春雞大地野菜\n",
      "Description: 多種香料風味滲入雞肉的每個纖維，柔嫩的春雞一扒就開，肉汁瞬間傾瀉而出，染上鋪底的野菜，成為最天然鮮美的調味。\n",
      "Ingredients: ['馬鈴薯 50公克', '紅蘿蔔 50公克', '白葡萄酒 15毫升', '春雞 1隻', '醬油 10毫升', '金黃蒜油 15毫升', '匈牙利紅椒 2公克', '玫瑰鹽 1公克', '義大利香料 2公克', '香蒜粒 6公克', '白胡椒粉 2公克', '球芽甘藍(抱子甘藍) 50公克']\n",
      "Instructions: ['馬鈴薯切塊、紅蘿蔔去皮切塊', '春雞使用義大利香草、匈牙利紅椒粉、白胡椒粉1公克、香蒜粒3公克醃漬10分鐘', '擦乾春雞水分，萬用壓力鍋內加入蒜風味油，按2次『燉、炒』模式，再按『調理開始』，將春雞下鍋煎至兩面上色備用', '原鍋加入馬鈴薯塊、紅蘿蔔塊、抱子甘藍與醃漬雞肉相同的香辛料，按1次『燉、炒』模式拌炒均勻', '蓋上鍋蓋，排氣閥轉至壓力，選擇『肉.豆類』模式，按『調理開始』 時間為15分鐘', '待浮子閥完全下降即可開蓋，打開鍋蓋撒上玫瑰鹽、白胡椒粉，最後淋上蒜風味油即完成']\n",
      "----------------------------------------\n",
      "Rank: 4, Score: 0.8892999887466431\n",
      "Matched Field: description\n",
      "Field Content: 炎炎夏日，清淡的豬里肌肉片讓料理更輕鬆。\n",
      "Index ID: 106\n",
      "Name: 蒜香里肌肉片\n",
      "Description: 炎炎夏日，清淡的豬里肌肉片讓料理更輕鬆。\n",
      "Ingredients: ['青蒜 1根', '豬里肌肉 200', '醬油膏 15公克', '金黃蒜油 22毫升']\n",
      "Instructions: ['青蒜切斜片。', '取一湯鍋將水煮滾，並放入豬肉片汆燙至熟撈起。', '將豬肉片淋上蒜風味油、青蒜、醬油膏拌勻即完成。', '完成']\n",
      "----------------------------------------\n",
      "Rank: 5, Score: 0.8899000287055969\n",
      "Matched Field: description\n",
      "Field Content: 濃濃奶香融入鮮嫩雞肉與豐富的蔬菜裡，撒上義大利香料，清新風味讓香氣更多層次，每一口都是滿滿溫暖幸福！\n",
      "Index ID: 466\n",
      "Name: 義式白醬雞肉燉菜\n",
      "Description: 濃濃奶香融入鮮嫩雞肉與豐富的蔬菜裡，撒上義大利香料，清新風味讓香氣更多層次，每一口都是滿滿溫暖幸福！\n",
      "Ingredients: ['半雞(切塊) 1包', '低筋麵粉 45公克', '奶油 40公克', '鮮奶 450毫升', '洋蔥 1顆', '馬鈴薯 2顆', '紅蘿蔔 1根', '洋菇 50公克', '青花椰菜 50-80公克', '義大利香料 少許公克', '鮮磨白胡椒 適量公克', '金黃蒜油 30毫升', '雞高湯 1000毫升']\n",
      "Instructions: ['食材大集合。', '馬鈴薯、紅蘿蔔切滾刀塊/洋蔥切塊/洋菇切片', '起鍋放入奶油小火加熱，奶油稍微融化即可加入低筋麵粉拌炒至麵粉糊化開始冒泡泡，再加入鮮奶以小火拌炒白醬成濃稠狀備用', '鍋中加入2大匙金黃蒜油，將醃漬過的雞肉入鍋煎至二面微焦，再加入洋蔥，慢炒至成半透明狀後起鍋備用', '原鍋加入洋菇、紅蘿蔔、馬鈴薯、花椰菜拌炒至油份被蔬菜吸收 ', '另起一深鍋加入除花椰菜以外的所有食材，倒入高湯，煮滾後加入白醬，以小火燉煮30分鐘，並持續攪拌以免鍋底燒焦', '熬煮到合適濃稠度撒上鮮磨白胡椒、義大利香料，加入花椰菜即完成']\n",
      "----------------------------------------\n",
      "Rank: 6, Score: 0.8921999931335449\n",
      "Matched Field: description\n",
      "Field Content: 炎炎夏日最適合來道清涼的鹽水雞了，帶著濃郁蔥香味的雞腿，肉質Q彈爽口，料理步驟簡單方便，自己在家也能做出夜市鹹水雞。\n",
      "Index ID: 283\n",
      "Name: 鹹水雞\n",
      "Description: 炎炎夏日最適合來道清涼的鹽水雞了，帶著濃郁蔥香味的雞腿，肉質Q彈爽口，料理步驟簡單方便，自己在家也能做出夜市鹹水雞。\n",
      "Ingredients: ['冰水 500毫升', '去骨雞腿 1隻', '白精靈菇 10公克', '青蔥 1根', '青花椰菜 30公克', '小黃瓜 80公克', '紅蘿蔔 1/2根', '玉米筍 3-4根', '生薑 10公克', '乾燥黑木耳 10公克朵', '米酒 些許毫升', '鹽 17.5公克', '金黃蔥油 30毫升', '花椒粉 5公克', '八角粒 1-2個', '萬用胡椒鹽 些許公克', '白胡椒粉 10公克']\n",
      "Instructions: ['雞腿畫刀，幫助入味；蔬菜清洗切塊', '將八角粒、五香粉、白胡椒粉、花椒粉、鹽拌勻成➀醃料', '將雞腿淋上米酒，然後把➀醃料均勻抹在雞腿上，將➁醃製雞腿醃製約15分鐘', '起一鍋熱水，放入1大匙鹽及蔥風味油，煮滾後陸續放入花椰菜、紅蘿蔔、玉米筍、白精靈菇、黑木耳，燙熟後放到冰水內冰鎮後撈起備用', '原鍋放入青蔥、薑片、鹽、白胡椒粉、1大匙鹽蔥風味油煮滾', '放入➁醃製雞腿，煮滾後轉中火將浮渣撈起，小火悶煮約10分鐘', '將雞腿冰鎮後切絲，原湯過濾成➂雞高湯', '取一容器放入切絲後的雞腿及蔬菜，加入小黃瓜、蔥風味油、➂雞高湯、萬用胡椒鹽、蔥花拌勻後，即可上桌', '視雞腿大小調整悶熟時間', '雞高湯可以冷凍保存，當高湯塊使用']\n",
      "----------------------------------------\n",
      "Rank: 7, Score: 0.907800018787384\n",
      "Matched Field: description\n",
      "Field Content: 雞翅煎至表面金黃，鎖住飽滿肉汁，咬下的時候外皮酥脆、內裏滑嫩可口，以五香粉與孜然粉醃過的雞肉香氣濃烈，辛香帶勁，簡單好下飯，讓人忍不住掃盤完食！\n",
      "Index ID: 678\n",
      "Name: 孜然烤雞翅\n",
      "Description: 雞翅煎至表面金黃，鎖住飽滿肉汁，咬下的時候外皮酥脆、內裏滑嫩可口，以五香粉與孜然粉醃過的雞肉香氣濃烈，辛香帶勁，簡單好下飯，讓人忍不住掃盤完食！\n",
      "Ingredients: ['白芝麻 少許公克', '雞翅(三節) 250g支', '醬油 1大匙毫升', '糖 1小匙公克', '金黃蒜油 1小匙毫升', '玫瑰鹽 1g公克', '五香粉 2g公克', '孜然風味料 5g公克']\n",
      "Instructions: ['食材準備', '雞翅開花刀', '雞翅加入孜然粉、五香粉、玫瑰鹽、醬油及糖拌勻後放置15分鐘入味', '鍋中加入金黃蒜油放入雞翅，煎到雙面金黃且竹籤能輕鬆戳透', '起鍋後撒上芝麻，也可依個人喜好再添加孜然粉']\n",
      "----------------------------------------\n",
      "Rank: 8, Score: 0.9210000038146973\n",
      "Matched Field: description\n",
      "Field Content: 蔥油香氣、舞菇口感與雞胸完美結合搭配清爽蔬菜維持滿滿活力！\n",
      "Index ID: 551\n",
      "Name: 蔥油舞菇拌雞胸\n",
      "Description: 蔥油香氣、舞菇口感與雞胸完美結合搭配清爽蔬菜維持滿滿活力！\n",
      "Ingredients: ['青花椰菜 100公克', '玉米筍 4根', '雞胸肉 300公克', '小黃瓜 1/2根', '冰塊 1包', '舞菇 1包', '金黃蔥油 30毫升', '五香粉 3公克', '鹽酥雞椒鹽粉 7公克', '白胡椒粉 10公克']\n",
      "Instructions: ['食材大集合。', '雞胸肉以金黃蔥油15毫升、萬用胡椒鹽、純白胡椒粉、五香粉醃漬半小時', '舞菇剝小塊、玉米筍切半、小黃瓜切條', '將雞胸與舞菇放入電鍋蒸熟，外鍋一杯水', '花椰菜、玉米筍、小黃瓜燙熟放入冰水', '雞胸肉蒸熟後切適口大小，鍋中的雞汁保留', '雞汁加入金黃蔥油、依個人口味撒入萬用胡椒鹽', '調味後的雞汁淋上雞胸與所有食材拌勻']\n",
      "----------------------------------------\n",
      "Rank: 9, Score: 0.9247000217437744\n",
      "Matched Field: description\n",
      "Field Content: 香嫩雞丁搭配爽脆芹菜，減脂必備食材都在這！勁辣十三香撒一撒，讓食物更美味的小魔法，多層次的香痲風味讓人抵擋不住，原來減脂料理也可以讓人這麼享受！\n",
      "Index ID: 534\n",
      "Name: 十三香辣炒雞丁\n",
      "Description: 香嫩雞丁搭配爽脆芹菜，減脂必備食材都在這！勁辣十三香撒一撒，讓食物更美味的小魔法，多層次的香痲風味讓人抵擋不住，原來減脂料理也可以讓人這麼享受！\n",
      "Ingredients: ['芹菜 2根', '雞里肌肉 250公克', '醬油 5毫升', '金黃蒜油 20毫升', '勁辣十三香 8公克']\n",
      "Instructions: ['食材大集合。', '雞里肌切塊，加入勁辣十三香5克、金黃蒜油10毫升、醬油抓勻靜置', '芹菜切小段，約與雞肉同寬', '鍋中倒入金黃蒜油，中火加入雞胸肉煎至8分熟', '加入芹菜、勁辣十三香3克增香，拌炒均勻即可起鍋']\n",
      "----------------------------------------\n",
      "Rank: 10, Score: 0.9327999949455261\n",
      "Matched Field: description\n",
      "Field Content: 低熱量雞胸肉炒藜麥飯，打造不餓瘦身消水攻略！灑上印度咖哩粉的雞胸肉色彩艷麗，搭配彩椒和藜麥飯，簡單方便又健康滿分！\n",
      "Index ID: 78\n",
      "Name: 香煎雞胸彩椒炒藜麥飯\n",
      "Description: 低熱量雞胸肉炒藜麥飯，打造不餓瘦身消水攻略！灑上印度咖哩粉的雞胸肉色彩艷麗，搭配彩椒和藜麥飯，簡單方便又健康滿分！\n",
      "Ingredients: ['洋蔥 1/4顆', '黃甜椒 1/2顆', '紅甜椒 1/2顆', '雞胸肉 160公克', '食用油 少許毫升', '米 150公克', '藜麥 30公克', '咖哩粉 10公克', '玫瑰鹽 適量公克']\n",
      "Instructions: ['平底鍋加熱倒入烹飪油，以中火煎雞胸肉，煎熟後取出剝絲備用。', '原鍋以中火炒洋蔥丁至香味溢出。', '放入紅黃甜椒快速翻炒。', '倒進藜麥飯，轉大火翻炒。', '灑上印度咖哩粉及玫瑰鹽調味。', '起鍋前拌入雞胸絲即可盛盤。']\n",
      "----------------------------------------\n"
     ]
    }
   ],
   "source": [
    "for result in saved_results:\n",
    "    print(f\"Rank: {result['Result_Rank']}, Score: {result['Score']}\")\n",
    "    print(f\"Matched Field: {result['Matched_Field']}\")\n",
    "    print(f\"Field Content: {result['Field_Content']}\")\n",
    "    print(f\"Index ID: {result['Index_ID']}\")\n",
    "    print(f\"Name: {result['Name']}\")\n",
    "    print(f\"Description: {result['Description']}\")\n",
    "    print(f\"Ingredients: {result['Ingredients']}\")\n",
    "    print(f\"Instructions: {result['Instructions']}\")\n",
    "    print(\"-\" * 40)"
   ]
  },
  {
   "cell_type": "code",
   "execution_count": 450,
   "id": "5211b645",
   "metadata": {},
   "outputs": [
    {
     "name": "stdout",
     "output_type": "stream",
     "text": [
      "根據提供的內容，以下是幾款清爽的雞肉料理選擇：\n",
      "\n",
      "1. **涼拌蔥油雞絲**\n",
      "2. **鹹水雞**\n",
      "3. **蔥油舞菇拌雞胸**\n",
      "4. **香煎雞胸彩椒炒藜麥飯**\n",
      "\n",
      "### 比較清單：\n",
      "- **涼拌蔥油雞絲**：高蛋白低熱量，搭配番茄和玉米的甜酸清爽。\n",
      "- **鹹水雞**：炎炎夏日適合，帶濃郁蔥香，肉質Q彈清涼爽口。\n",
      "- **蔥油舞菇拌雞胸**：蔥油香氣與舞菇口感結合，搭配清爽蔬菜。\n",
      "- **香煎雞胸彩椒炒藜麥飯**：搭配彩椒和藜麥飯，咖哩粉增香，低熱量又健康。\n"
     ]
    }
   ],
   "source": [
    "print(llm_result)"
   ]
  }
 ],
 "metadata": {
  "kernelspec": {
   "display_name": "RAG",
   "language": "python",
   "name": "python3"
  },
  "language_info": {
   "codemirror_mode": {
    "name": "ipython",
    "version": 3
   },
   "file_extension": ".py",
   "mimetype": "text/x-python",
   "name": "python",
   "nbconvert_exporter": "python",
   "pygments_lexer": "ipython3",
   "version": "3.9.21"
  }
 },
 "nbformat": 4,
 "nbformat_minor": 5
}
